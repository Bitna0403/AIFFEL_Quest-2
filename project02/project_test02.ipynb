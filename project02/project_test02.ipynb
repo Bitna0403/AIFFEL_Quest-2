{
 "cells": [
  {
   "cell_type": "code",
   "execution_count": 2,
   "id": "fd2480bb",
   "metadata": {},
   "outputs": [
    {
     "data": {
      "image/png": "[encoded data removed]",
      "text/plain": [
       "<Figure size 432x288 with 1 Axes>"
      ]
     },
     "metadata": {
      "needs_background": "light"
     },
     "output_type": "display_data"
    },
    {
     "name": "stdout",
     "output_type": "stream",
     "text": [
      "<class 'pandas.core.frame.DataFrame'>\n",
      "Int64Index: 15030 entries, 0 to 15034\n",
      "Data columns (total 19 columns):\n",
      " #   Column         Non-Null Count  Dtype  \n",
      "---  ------         --------------  -----  \n",
      " 0   date           15030 non-null  int64  \n",
      " 1   bedrooms       15030 non-null  int64  \n",
      " 2   bathrooms      15030 non-null  float64\n",
      " 3   sqft_living    15030 non-null  int64  \n",
      " 4   sqft_lot       15030 non-null  int64  \n",
      " 5   floors         15030 non-null  float64\n",
      " 6   waterfront     15030 non-null  int64  \n",
      " 7   view           15030 non-null  int64  \n",
      " 8   condition      15030 non-null  int64  \n",
      " 9   grade          15030 non-null  int64  \n",
      " 10  sqft_above     15030 non-null  int64  \n",
      " 11  sqft_basement  15030 non-null  int64  \n",
      " 12  yr_built       15030 non-null  int64  \n",
      " 13  yr_renovated   15030 non-null  int64  \n",
      " 14  zipcode        15030 non-null  int64  \n",
      " 15  lat            15030 non-null  float64\n",
      " 16  long           15030 non-null  float64\n",
      " 17  sqft_living15  15030 non-null  int64  \n",
      " 18  sqft_lot15     15030 non-null  int64  \n",
      "dtypes: float64(4), int64(15)\n",
      "memory usage: 2.3 MB\n"
     ]
    }
   ],
   "source": [
    "import warnings\n",
    "warnings.filterwarnings(\"ignore\")\n",
    "\n",
    "import os\n",
    "from os.path import join\n",
    "\n",
    "import pandas as pd\n",
    "import numpy as np\n",
    "\n",
    "import missingno as msno\n",
    "\n",
    "from sklearn.ensemble import GradientBoostingRegressor\n",
    "from sklearn.model_selection import KFold, cross_val_score\n",
    "import xgboost as xgb\n",
    "import lightgbm as lgb\n",
    "\n",
    "import matplotlib.pyplot as plt\n",
    "import seaborn as sns\n",
    "\n",
    "from sklearn.model_selection import train_test_split\n",
    "from sklearn.metrics import mean_squared_error\n",
    "\n",
    "from xgboost import XGBRegressor\n",
    "from lightgbm import LGBMRegressor\n",
    "from sklearn.ensemble import GradientBoostingRegressor, RandomForestRegressor\n",
    "\n",
    "from sklearn.model_selection import GridSearchCV\n",
    "\n",
    "data_dir = os.getenv('HOME')+'/aiffel/kaggle_kakr_housing/data'\n",
    "\n",
    "train_data_path = join(data_dir, 'train.csv')\n",
    "test_data_path = join(data_dir, 'test.csv') \n",
    "\n",
    "train = pd.read_csv(train_data_path)\n",
    "test = pd.read_csv(test_data_path)\n",
    "\n",
    "# 데이터 전처리 \n",
    "train['date'] = train['date'].apply(lambda i: i[:6]).astype(int)\n",
    "\n",
    "#### test 01\n",
    "train = train.loc[train['id']!=456]\n",
    "train = train.loc[train['id']!=2302]\n",
    "train = train.loc[train['id']!=4123]\n",
    "train = train.loc[train['id']!=7259]\n",
    "train = train.loc[train['id']!=2777]\n",
    "\n",
    "y = train['price']\n",
    "del train['price']\n",
    "del train['id']\n",
    "\n",
    "test['date'] = test['date'].apply(lambda i: i[:6]).astype(int)\n",
    "del test['id']\n",
    "\n",
    "# seaborn의 `kdeplot`을 활용해 y분포 확인\n",
    "sns.kdeplot(y)\n",
    "plt.show()\n",
    "\n",
    "# 왼쪽으로 크게 치우쳐 있는 y값 로그변환 \n",
    "y = np.log1p(y)\n",
    "\n",
    "# 데이터 형태 확인\n",
    "train.info()\n",
    "\n",
    "# rmse 계산을 위한 함수 생성\n",
    "def rmse(y_test, y_pred):\n",
    "    return np.sqrt(mean_squared_error(np.expm1(y_test), np.expm1(y_pred)))\n",
    "\n",
    "random_state=2020        # 하지만 우리는 이렇게 고정값을 세팅해 두겠습니다. \n",
    "\n",
    "gboost = GradientBoostingRegressor(random_state=random_state)\n",
    "xgboost = XGBRegressor(random_state=random_state)\n",
    "lightgbm = LGBMRegressor(random_state=random_state)\n",
    "rdforest = RandomForestRegressor(random_state=random_state)\n",
    "\n",
    "models = [gboost, xgboost, lightgbm, rdforest]\n",
    "\n",
    "def get_scores(models, train, y):\n",
    "    df = {}\n",
    "    \n",
    "    for i,model in enumerate(models):\n",
    "        model_name = model.__class__.__name__\n",
    "        \n",
    "        X_train, X_test, y_train, y_test = train_test_split(train, y, random_state=random_state, test_size=0.2)\n",
    "        model.fit(X_train, y_train)\n",
    "        y_pred = model.predict(X_test)\n",
    "        \n",
    "        df[model_name+str(i)] = rmse(y_test, y_pred)\n",
    "        score_df = pd.DataFrame(df, index=['RMSE']).T.sort_values('RMSE', ascending=False)\n",
    "            \n",
    "    return score_df\n",
    "\n",
    "get_scores(models, train, y)\n",
    "\n",
    "def my_GridSearch(model, train, y, param_grid, verbose=2, n_jobs=5):\n",
    "    # GridSearchCV 모델로 초기화\n",
    "    grid_model = GridSearchCV(model, param_grid=param_grid, scoring='neg_mean_squared_error', \\\n",
    "                              cv=5, verbose=verbose, n_jobs=n_jobs)\n",
    "    \n",
    "    # 모델 fitting\n",
    "    grid_model.fit(train, y)\n",
    "\n",
    "    # 결과값 저장\n",
    "    params = grid_model.cv_results_['params']\n",
    "    score = grid_model.cv_results_['mean_test_score']\n",
    "    \n",
    "    # 데이터 프레임 생성\n",
    "    results = pd.DataFrame(params)\n",
    "    results['score'] = score\n",
    "    \n",
    "    # RMSLE 값 계산 후 정렬\n",
    "    results['RMSLE'] = np.sqrt(-1 * results['score'])\n",
    "    results = results.sort_values('RMSLE')\n",
    "\n",
    "    return results\n",
    "\n",
    "# 그리드 탐색\n",
    "param_grid = {\n",
    "    'n_estimators': [50, 100],\n",
    "    'max_depth': [1, 10],\n",
    "}\n",
    "\n",
    "# 학습결과 예측\n",
    "\"\"\"\n",
    "model = LGBMRegressor(max_depth=10, n_estimators=100, random_state=random_state)\n",
    "\n",
    "def save_submission(model, train, y, test, model_name, rmsle=None):\n",
    "    model.fit(train, y)\n",
    "    prediction = model.predict(test)\n",
    "    prediction = np.expm1(prediction)\n",
    "    data_dir = os.getenv('HOME')+'/aiffel/kaggle_kakr_housing/data'\n",
    "    submission_path = join(data_dir, 'sample_submission.csv')\n",
    "    submission = pd.read_csv(submission_path)\n",
    "    submission['price'] = prediction\n",
    "    submission_csv_path = '{}/submission_{}_RMSLE_{}.csv'.format(data_dir, model_name, rmsle)\n",
    "    submission.to_csv(submission_csv_path, index=False)\n",
    "    print('{} saved!'.format(submission_csv_path))\n",
    "\"\"\"\n",
    "\n",
    "#save_submission(model, train, y, test, 'lgbm', rmsle='0.164399')\n",
    "\n",
    "model_a = GradientBoostingRegressor(random_state=random_state)\n",
    "# GradientBoostingRegressor(max_depth=10, n_estimators=100, random_state=random_state)\n",
    "model_b = XGBRegressor(max_depth=10, n_estimators=50, random_state=random_state)\n",
    "# XGBRegressor(max_depth=10, n_estimators=50, random_state=random_state)\n",
    "model_c = LGBMRegressor(max_depth=10, n_estimators=100, random_state=random_state)\n",
    "# LGBMRegressor(max_depth=10, n_estimators=100, random_state=random_state)\n",
    "model_d = RandomForestRegressor(max_depth=10, n_estimators=100, random_state=random_state) \n",
    "                                \n",
    "models = [model_a,model_b,model_c,model_d]\n",
    "                                \n",
    "# RandomForestRegressor(max_depth=10, n_estimators=100, random_state=random_state)\n",
    "\n",
    "#print(my_GridSearch(model_a, train, y, param_grid, verbose=2, n_jobs=5))\n",
    "#print(my_GridSearch(model_b, train, y, param_grid, verbose=2, n_jobs=5))\n",
    "#print(my_GridSearch(model_c, train, y, param_grid, verbose=2, n_jobs=5))\n",
    "#print(my_GridSearch(model_d, train, y, param_grid, verbose=2, n_jobs=5))"
   ]
  },
  {
   "cell_type": "code",
   "execution_count": 3,
   "id": "296771b5",
   "metadata": {},
   "outputs": [],
   "source": [
    "def AveragingBlending(models, x, y, sub_x):\n",
    "    for m in models : \n",
    "        m.fit(x.values, y)\n",
    "    \n",
    "    predictions = np.column_stack([\n",
    "        m.predict(sub_x.values) for m in models\n",
    "    ])\n",
    "    return np.mean(predictions, axis=1)"
   ]
  },
  {
   "cell_type": "code",
   "execution_count": 4,
   "id": "cf95ea88",
   "metadata": {},
   "outputs": [
    {
     "name": "stdout",
     "output_type": "stream",
     "text": [
      "[13.13418051 12.99693517 14.10676119 ... 13.00980291 12.7513473\n",
      " 12.99502612]\n",
      "[ 505942.6169979   441058.54715228 1338098.91925152 ...  446770.65789137\n",
      "  345015.42460139  440217.34277702]\n"
     ]
    }
   ],
   "source": [
    "y_pred = AveragingBlending(models, train, y, test)\n",
    "print(y_pred)\n",
    "prediction = np.expm1(y_pred)\n",
    "print(prediction)"
   ]
  },
  {
   "cell_type": "code",
   "execution_count": 5,
   "id": "005b316f",
   "metadata": {},
   "outputs": [],
   "source": [
    "data_dir = os.getenv('HOME')+'/aiffel/kaggle_kakr_housing/data'\n",
    "submission_path = join(data_dir, 'sample_submission.csv')\n",
    "submission = pd.read_csv(submission_path)\n",
    "submission['price'] = prediction\n",
    "submission_csv_path = '{}/test_sample.csv'.format(data_dir)\n",
    "submission.to_csv(submission_csv_path, index=False)"
   ]
  },
  {
   "cell_type": "code",
   "execution_count": 6,
   "id": "f42b4838",
   "metadata": {},
   "outputs": [],
   "source": [
    "def get_cv_score(models):\n",
    "    kfold = KFold(n_splits=5).get_n_splits(train.values)\n",
    "    for model in models:\n",
    "        CV_score = np.mean(cross_val_score(model, X=train.values, y=y, cv=kfold))\n",
    "        print(f\"Model: {model.__class__.__name__}, CV score:{CV_score:.4f}\")"
   ]
  },
  {
   "cell_type": "code",
   "execution_count": 7,
   "id": "08db6419",
   "metadata": {},
   "outputs": [
    {
     "name": "stdout",
     "output_type": "stream",
     "text": [
      "Model: GradientBoostingRegressor, CV score:0.8796\n",
      "Model: XGBRegressor, CV score:0.8894\n",
      "Model: LGBMRegressor, CV score:0.9022\n",
      "Model: RandomForestRegressor, CV score:0.8736\n"
     ]
    }
   ],
   "source": [
    "get_cv_score(models)"
   ]
  },
  {
   "cell_type": "code",
   "execution_count": 8,
   "id": "29b4ae44",
   "metadata": {},
   "outputs": [
    {
     "data": {
      "text/html": [
       "<div>\n",
       "<style scoped>\n",
       "    .dataframe tbody tr th:only-of-type {\n",
       "        vertical-align: middle;\n",
       "    }\n",
       "\n",
       "    .dataframe tbody tr th {\n",
       "        vertical-align: top;\n",
       "    }\n",
       "\n",
       "    .dataframe thead th {\n",
       "        text-align: right;\n",
       "    }\n",
       "</style>\n",
       "<table border=\"1\" class=\"dataframe\">\n",
       "  <thead>\n",
       "    <tr style=\"text-align: right;\">\n",
       "      <th></th>\n",
       "      <th>RMSE</th>\n",
       "    </tr>\n",
       "  </thead>\n",
       "  <tbody>\n",
       "    <tr>\n",
       "      <th>RandomForestRegressor3</th>\n",
       "      <td>138052.664828</td>\n",
       "    </tr>\n",
       "    <tr>\n",
       "      <th>GradientBoostingRegressor0</th>\n",
       "      <td>128963.259176</td>\n",
       "    </tr>\n",
       "    <tr>\n",
       "      <th>XGBRegressor1</th>\n",
       "      <td>113191.498023</td>\n",
       "    </tr>\n",
       "    <tr>\n",
       "      <th>LGBMRegressor2</th>\n",
       "      <td>109766.148225</td>\n",
       "    </tr>\n",
       "    <tr>\n",
       "      <th>LGBMRegressor4</th>\n",
       "      <td>107546.887330</td>\n",
       "    </tr>\n",
       "  </tbody>\n",
       "</table>\n",
       "</div>"
      ],
      "text/plain": [
       "                                     RMSE\n",
       "RandomForestRegressor3      138052.664828\n",
       "GradientBoostingRegressor0  128963.259176\n",
       "XGBRegressor1               113191.498023\n",
       "LGBMRegressor2              109766.148225\n",
       "LGBMRegressor4              107546.887330"
      ]
     },
     "execution_count": 8,
     "metadata": {},
     "output_type": "execute_result"
    }
   ],
   "source": [
    "\n",
    "model_a = GradientBoostingRegressor(random_state=random_state)\n",
    "# GradientBoostingRegressor(max_depth=10, n_estimators=100, random_state=random_state)\n",
    "model_b = XGBRegressor(max_depth=10, n_estimators=50, random_state=random_state)\n",
    "# XGBRegressor(max_depth=10, n_estimators=50, random_state=random_state)\n",
    "model_c = LGBMRegressor(max_depth=10, n_estimators=100, random_state=random_state)\n",
    "# LGBMRegressor(max_depth=10, n_estimators=100, random_state=random_state)\n",
    "model_d = RandomForestRegressor(max_depth=10, n_estimators=100, random_state=random_state) \n",
    "                                \n",
    "model_e = LGBMRegressor(random_state=random_state)\n",
    "\n",
    "models = [model_a,model_b,model_c,model_d,model_e]\n",
    "get_scores(models , train , y)"
   ]
  },
  {
   "cell_type": "code",
   "execution_count": 10,
   "id": "bde2e839",
   "metadata": {},
   "outputs": [
    {
     "name": "stdout",
     "output_type": "stream",
     "text": [
      "/aiffel/aiffel/kaggle_kakr_housing/data/submission_test_RMSLE_2.csv saved!\n"
     ]
    }
   ],
   "source": [
    "def save_submission(model, train, y, test, model_name, rmsle=None):\n",
    "    model.fit(train, y)\n",
    "    prediction = model.predict(test)\n",
    "    prediction = np.expm1(prediction)\n",
    "    data_dir = os.getenv('HOME')+'/aiffel/kaggle_kakr_housing/data'\n",
    "    submission_path = join(data_dir, 'sample_submission.csv')\n",
    "    submission = pd.read_csv(submission_path)\n",
    "    submission['price'] = prediction\n",
    "    submission_csv_path = '{}/submission_{}_RMSLE_{}.csv'.format(data_dir, model_name, rmsle)\n",
    "    submission.to_csv(submission_csv_path, index=False)\n",
    "    print('{} saved!'.format(submission_csv_path))\n",
    "    \n",
    "save_submission(models[2], train, y, test, 'test', rmsle='2')"
   ]
  },
  {
   "cell_type": "code",
   "execution_count": null,
   "id": "40f84b37",
   "metadata": {},
   "outputs": [],
   "source": []
  }
 ],
 "metadata": {
  "kernelspec": {
   "display_name": "Python 3 (ipykernel)",
   "language": "python",
   "name": "python3"
  },
  "language_info": {
   "codemirror_mode": {
    "name": "ipython",
    "version": 3
   },
   "file_extension": ".py",
   "mimetype": "text/x-python",
   "name": "python",
   "nbconvert_exporter": "python",
   "pygments_lexer": "ipython3",
   "version": "3.9.7"
  }
 },
 "nbformat": 4,
 "nbformat_minor": 5
}
