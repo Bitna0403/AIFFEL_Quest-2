{
 "cells": [
  {
   "cell_type": "code",
   "execution_count": 82,
   "id": "3a470ac1",
   "metadata": {},
   "outputs": [
    {
     "data": {
      "text/html": [
       "<div>\n",
       "<style scoped>\n",
       "    .dataframe tbody tr th:only-of-type {\n",
       "        vertical-align: middle;\n",
       "    }\n",
       "\n",
       "    .dataframe tbody tr th {\n",
       "        vertical-align: top;\n",
       "    }\n",
       "\n",
       "    .dataframe thead th {\n",
       "        text-align: right;\n",
       "    }\n",
       "</style>\n",
       "<table border=\"1\" class=\"dataframe\">\n",
       "  <thead>\n",
       "    <tr style=\"text-align: right;\">\n",
       "      <th></th>\n",
       "      <th>id</th>\n",
       "      <th>document</th>\n",
       "      <th>label</th>\n",
       "    </tr>\n",
       "  </thead>\n",
       "  <tbody>\n",
       "    <tr>\n",
       "      <th>0</th>\n",
       "      <td>9976970</td>\n",
       "      <td>아 더빙.. 진짜 짜증나네요 목소리</td>\n",
       "      <td>0</td>\n",
       "    </tr>\n",
       "    <tr>\n",
       "      <th>1</th>\n",
       "      <td>3819312</td>\n",
       "      <td>흠...포스터보고 초딩영화줄....오버연기조차 가볍지 않구나</td>\n",
       "      <td>1</td>\n",
       "    </tr>\n",
       "    <tr>\n",
       "      <th>2</th>\n",
       "      <td>10265843</td>\n",
       "      <td>너무재밓었다그래서보는것을추천한다</td>\n",
       "      <td>0</td>\n",
       "    </tr>\n",
       "    <tr>\n",
       "      <th>3</th>\n",
       "      <td>9045019</td>\n",
       "      <td>교도소 이야기구먼 ..솔직히 재미는 없다..평점 조정</td>\n",
       "      <td>0</td>\n",
       "    </tr>\n",
       "    <tr>\n",
       "      <th>4</th>\n",
       "      <td>6483659</td>\n",
       "      <td>사이몬페그의 익살스런 연기가 돋보였던 영화!스파이더맨에서 늙어보이기만 했던 커스틴 ...</td>\n",
       "      <td>1</td>\n",
       "    </tr>\n",
       "  </tbody>\n",
       "</table>\n",
       "</div>"
      ],
      "text/plain": [
       "         id                                           document  label\n",
       "0   9976970                                아 더빙.. 진짜 짜증나네요 목소리      0\n",
       "1   3819312                  흠...포스터보고 초딩영화줄....오버연기조차 가볍지 않구나      1\n",
       "2  10265843                                  너무재밓었다그래서보는것을추천한다      0\n",
       "3   9045019                      교도소 이야기구먼 ..솔직히 재미는 없다..평점 조정      0\n",
       "4   6483659  사이몬페그의 익살스런 연기가 돋보였던 영화!스파이더맨에서 늙어보이기만 했던 커스틴 ...      1"
      ]
     },
     "execution_count": 82,
     "metadata": {},
     "output_type": "execute_result"
    }
   ],
   "source": [
    "# 라이브러리 및 데이터 준비\n",
    "import pandas\n",
    "import konlpy\n",
    "import gensim\n",
    "from konlpy.tag import Mecab\n",
    "import numpy as np\n",
    "from collections import Counter\n",
    "import tensorflow as tf\n",
    "import pandas as pd\n",
    "import os\n",
    "\n",
    "# 데이터를 읽어봅시다. \n",
    "train_data = pd.read_table('~/aiffel/sentiment_classification/data/ratings_train.txt') # 150000\n",
    "test_data = pd.read_table('~/aiffel/sentiment_classification/data/ratings_test.txt') # 50000\n",
    "\n",
    "train_data.head()"
   ]
  },
  {
   "cell_type": "code",
   "execution_count": 72,
   "id": "9ce9f895",
   "metadata": {},
   "outputs": [],
   "source": [
    "tokenizer = Mecab()\n",
    "stopwords = ['의','가','이','은','들','는','좀','잘','걍','과','도','를','으로','자','에','와','한','하다']\n",
    "\n",
    "def load_data(train_data, test_data, num_words=10000):\n",
    "    train_data.drop_duplicates(subset=['document'], inplace=True)\n",
    "    train_data = train_data.dropna(how = 'any') \n",
    "    test_data.drop_duplicates(subset=['document'], inplace=True)\n",
    "    test_data = test_data.dropna(how = 'any') \n",
    "    \n",
    "    X_train = []\n",
    "    for sentence in train_data['document']:\n",
    "        temp_X = tokenizer.morphs(sentence) # 토큰화\n",
    "        temp_X = [word for word in temp_X if not word in stopwords] # 불용어 제거\n",
    "        X_train.append(temp_X)\n",
    "\n",
    "    X_test = []\n",
    "    for sentence in test_data['document']:\n",
    "        temp_X = tokenizer.morphs(sentence) # 토큰화\n",
    "        temp_X = [word for word in temp_X if not word in stopwords] # 불용어 제거\n",
    "        X_test.append(temp_X)\n",
    "    \n",
    "    words = np.concatenate(X_train).tolist()\n",
    "    counter = Counter(words)\n",
    "    counter = counter.most_common(num_words-4)\n",
    "    vocab = ['<PAD>', '<BOS>', '<UNK>', '<UNUSED>'] + [key for key, _ in counter]\n",
    "    word_to_index = {word:index for index, word in enumerate(vocab)}\n",
    "    \n",
    "    def wordlist_to_indexlist(wordlist):\n",
    "        return [word_to_index[word] if word in word_to_index else word_to_index['<UNK>'] for word in wordlist]\n",
    "        \n",
    "    x_train = list(map(wordlist_to_indexlist, X_train))\n",
    "    x_test = list(map(wordlist_to_indexlist, X_test))\n",
    "    \n",
    "    return x_train, np.array(list(train_data['label'])), x_test, np.array(list(test_data['label'])), word_to_index\n",
    "    \n",
    "X_train, y_train, X_test, y_test, word_to_index = load_data(train_data, test_data)\n",
    "index_to_word = {index:word for word, index in word_to_index.items()}\n",
    "print(\"데이터로드완료!\")"
   ]
  },
  {
   "cell_type": "code",
   "execution_count": 73,
   "id": "198c4e67",
   "metadata": {},
   "outputs": [],
   "source": [
    "# 문장 1개를 활용할 딕셔너리와 함께 주면, 단어 인덱스 리스트 벡터로 변환해 주는 함수입니다. \n",
    "# 단, 모든 문장은 <BOS>로 시작하는 것으로 합니다. \n",
    "def get_encoded_sentence(sentence, word_to_index):\n",
    "    return [word_to_index['<BOS>']]+[word_to_index[word] if word in word_to_index else word_to_index['<UNK>'] for word in sentence.split()]\n",
    "\n",
    "# 여러 개의 문장 리스트를 한꺼번에 단어 인덱스 리스트 벡터로 encode해 주는 함수입니다. \n",
    "def get_encoded_sentences(sentences, word_to_index):\n",
    "    return [get_encoded_sentence(sentence, word_to_index) for sentence in sentences]\n",
    "\n",
    "# 숫자 벡터로 encode된 문장을 원래대로 decode하는 함수입니다. \n",
    "def get_decoded_sentence(encoded_sentence, index_to_word):\n",
    "    return ' '.join(index_to_word[index] if index in index_to_word else '<UNK>' for index in encoded_sentence[1:])  #[1:]를 통해 <BOS>를 제외\n",
    "\n",
    "# 여러 개의 숫자 벡터로 encode된 문장을 한꺼번에 원래대로 decode하는 함수입니다. \n",
    "def get_decoded_sentences(encoded_sentences, index_to_word):\n",
    "    return [get_decoded_sentence(encoded_sentence, index_to_word) for encoded_sentence in encoded_sentences]"
   ]
  },
  {
   "cell_type": "code",
   "execution_count": 74,
   "id": "b9fe725f",
   "metadata": {},
   "outputs": [
    {
     "name": "stdout",
     "output_type": "stream",
     "text": [
      "문장길이 평균 :  15.96940191154864\n",
      "문장길이 최소 :  0\n",
      "문장길이 표준편차 :  12.843571191092\n",
      "단어길이 :  10000\n",
      "적용최대 길이(maxlen) :  41\n",
      "전체 문장의 93.42988343341575%가 maxlen 설정값 이내에 포함됩니다. \n"
     ]
    }
   ],
   "source": [
    "# 모델 구성을 위한 데이터 분석 및 가공\n",
    "# 데이터셋 내 문장 길이 분포\n",
    "# 적절한 최대 문장 길이 지정\n",
    "# keras.preprocessing.sequence.pad_sequences 을 활용한 패딩 추가\n",
    "total_data_text = list(X_train) + list(X_test)\n",
    "num_arrays = np.array([len(tokens) for tokens in total_data_text])\n",
    "\n",
    "print('문장길이 평균 : ', np.mean(num_arrays))\n",
    "print('문장길이 최소 : ', np.min(num_arrays))\n",
    "print('문장길이 표준편차 : ', np.std(num_arrays))\n",
    "print('단어길이 : ', len(word_to_index))\n",
    "\n",
    "# 최대 길이를 (평균 + 2*표준편차)로 한다면,\n",
    "max_tokens = np.mean(num_arrays) + 2 * np.std(num_arrays)\n",
    "maxlen = int(max_tokens) # 41\n",
    "print('적용최대 길이(maxlen) : ', maxlen)\n",
    "print(f'전체 문장의 {np.sum(num_arrays < max_tokens) / len(num_arrays) * 100}%가 maxlen 설정값 이내에 포함됩니다. ')"
   ]
  },
  {
   "cell_type": "code",
   "execution_count": 75,
   "id": "bbffe9ab",
   "metadata": {},
   "outputs": [
    {
     "name": "stdout",
     "output_type": "stream",
     "text": [
      "[ 32  74 919   4   4  39 228  20  33 748   0   0   0   0   0   0   0   0\n",
      "   0   0   0   0   0   0   0   0   0   0   0   0   0   0   0   0   0   0\n",
      "   0   0   0   0   0]\n",
      "더 빙 . . 진짜 짜증 나 네요 목소리 <PAD> <PAD> <PAD> <PAD> <PAD> <PAD> <PAD> <PAD> <PAD> <PAD> <PAD> <PAD> <PAD> <PAD> <PAD> <PAD> <PAD> <PAD> <PAD> <PAD> <PAD> <PAD> <PAD> <PAD> <PAD> <PAD> <PAD> <PAD> <PAD> <PAD> <PAD>\n",
      "[1028    4   11  519  549  687    5  120    4   70 1639   52  925 1006\n",
      "   15   44  391    0    0    0    0    0    0    0    0    0    0    0\n",
      "    0    0    0    0    0    0    0    0    0    0    0    0    0]\n",
      ". .. 포스터 보고 초딩 영화 줄 . ... 오버 연기 조차 가볍 지 않 구나 <PAD> <PAD> <PAD> <PAD> <PAD> <PAD> <PAD> <PAD> <PAD> <PAD> <PAD> <PAD> <PAD> <PAD> <PAD> <PAD> <PAD> <PAD> <PAD> <PAD> <PAD> <PAD> <PAD> <PAD>\n"
     ]
    }
   ],
   "source": [
    "# tf.keras.preprocessing.sequence.pad_sequences를 통해 word vector를 모두 일정 길이로 맞춰주어야 \n",
    "# embedding 레이어의 input이 될 수 있음에 주의해 주세요. \n",
    "#raw_inputs = np.array(get_encoded_sentences(sentences, word_to_index), dtype=object)\n",
    "X_train = tf.keras.preprocessing.sequence.pad_sequences(X_train,\n",
    "                                                       value=word_to_index['<PAD>'],\n",
    "                                                       padding='post', # pre or post\n",
    "                                                       maxlen=maxlen)\n",
    "\n",
    "X_test = tf.keras.preprocessing.sequence.pad_sequences(X_test,\n",
    "                                                       value=word_to_index['<PAD>'],\n",
    "                                                       padding='post', # pre or post\n",
    "                                                       maxlen=maxlen)\n",
    "\n",
    "print(X_train[0])\n",
    "print(get_decoded_sentence(X_train[0],index_to_word))\n",
    "\n",
    "print(X_train[1])\n",
    "print(get_decoded_sentence(X_train[1],index_to_word))"
   ]
  },
  {
   "cell_type": "code",
   "execution_count": 76,
   "id": "394c1fae",
   "metadata": {},
   "outputs": [
    {
     "name": "stdout",
     "output_type": "stream",
     "text": [
      "Model: \"sequential_3\"\n",
      "_________________________________________________________________\n",
      "Layer (type)                 Output Shape              Param #   \n",
      "=================================================================\n",
      "embedding_3 (Embedding)      (None, None, 16)          160000    \n",
      "_________________________________________________________________\n",
      "lstm_3 (LSTM)                (None, 8)                 800       \n",
      "_________________________________________________________________\n",
      "dense_6 (Dense)              (None, 8)                 72        \n",
      "_________________________________________________________________\n",
      "dense_7 (Dense)              (None, 1)                 9         \n",
      "=================================================================\n",
      "Total params: 160,881\n",
      "Trainable params: 160,881\n",
      "Non-trainable params: 0\n",
      "_________________________________________________________________\n",
      "각자!\n"
     ]
    }
   ],
   "source": [
    "# 1\n",
    "vocab_size = len(word_to_index)  # 2336\n",
    "word_vector_dim = 16  # 워드 벡터의 차원 수 (변경 가능한 하이퍼파라미터)\n",
    "\n",
    "model = tf.keras.Sequential()\n",
    "model.add(tf.keras.layers.Embedding(vocab_size, word_vector_dim, input_shape=(None,)))\n",
    "model.add(tf.keras.layers.LSTM(8))   # 가장 널리 쓰이는 RNN인 LSTM 레이어를 사용하였습니다. 이때 LSTM state 벡터의 차원수는 8로 하였습니다. (변경 가능)\n",
    "model.add(tf.keras.layers.Dense(8, activation='relu'))\n",
    "model.add(tf.keras.layers.Dense(1, activation='sigmoid'))  # 최종 출력은 긍정/부정을 나타내는 1dim 입니다.\n",
    "\n",
    "model.summary()\n",
    "\n",
    "\"\"\"\n",
    "model = tf.keras.Sequential()\n",
    "model.add(tf.keras.layers.Embedding(vocab_size, word_vector_dim, input_shape=(None,)))\n",
    "model.add(tf.keras.layers.Conv1D(16, 7, activation='relu'))\n",
    "model.add(tf.keras.layers.MaxPooling1D(5))\n",
    "model.add(tf.keras.layers.Conv1D(16, 7, activation='relu'))\n",
    "model.add(tf.keras.layers.GlobalMaxPooling1D())\n",
    "model.add(tf.keras.layers.Dense(8, activation='relu'))\n",
    "model.add(tf.keras.layers.Dense(1, activation='sigmoid'))  # 최종 출력은 긍정/부정을 나타내는 1dim 입니다.\n",
    "model.summary()\n",
    "\"\"\"\n",
    "\n",
    "\"\"\"\n",
    "model = tf.keras.Sequential()\n",
    "model.add(tf.keras.layers.Embedding(vocab_size, word_vector_dim, input_shape=(None,)))\n",
    "model.add(tf.keras.layers.GlobalMaxPooling1D())\n",
    "model.add(tf.keras.layers.Dense(8, activation='relu'))\n",
    "model.add(tf.keras.layers.Dense(1, activation='sigmoid'))  # 최종 출력은 긍정/부정을 나타내는 1dim 입니다.\n",
    "model.summary()\n",
    "\"\"\"\n",
    "print(\"각자!\")"
   ]
  },
  {
   "cell_type": "code",
   "execution_count": 77,
   "id": "78874faf",
   "metadata": {},
   "outputs": [
    {
     "name": "stdout",
     "output_type": "stream",
     "text": [
      "Epoch 1/20\n",
      "276/276 [==============================] - 3s 7ms/step - loss: 0.5260 - accuracy: 0.7271 - val_loss: 0.3619 - val_accuracy: 0.8458\n",
      "Epoch 2/20\n",
      "276/276 [==============================] - 2s 5ms/step - loss: 0.3466 - accuracy: 0.8542 - val_loss: 0.3389 - val_accuracy: 0.8540\n",
      "Epoch 3/20\n",
      "276/276 [==============================] - 1s 5ms/step - loss: 0.3227 - accuracy: 0.8644 - val_loss: 0.3354 - val_accuracy: 0.8552\n",
      "Epoch 4/20\n",
      "276/276 [==============================] - 1s 5ms/step - loss: 0.3127 - accuracy: 0.8679 - val_loss: 0.3359 - val_accuracy: 0.8612\n",
      "Epoch 5/20\n",
      "276/276 [==============================] - 2s 5ms/step - loss: 0.3040 - accuracy: 0.8720 - val_loss: 0.3388 - val_accuracy: 0.8544\n",
      "Epoch 6/20\n",
      "276/276 [==============================] - 1s 5ms/step - loss: 0.2970 - accuracy: 0.8755 - val_loss: 0.3446 - val_accuracy: 0.8506\n",
      "Epoch 7/20\n",
      "276/276 [==============================] - 1s 5ms/step - loss: 0.2899 - accuracy: 0.8786 - val_loss: 0.3439 - val_accuracy: 0.8526\n",
      "Epoch 8/20\n",
      "276/276 [==============================] - 1s 5ms/step - loss: 0.2813 - accuracy: 0.8827 - val_loss: 0.3431 - val_accuracy: 0.8530\n",
      "Epoch 9/20\n",
      "276/276 [==============================] - 1s 5ms/step - loss: 0.2723 - accuracy: 0.8879 - val_loss: 0.3491 - val_accuracy: 0.8462\n",
      "Epoch 10/20\n",
      "276/276 [==============================] - 1s 5ms/step - loss: 0.2628 - accuracy: 0.8904 - val_loss: 0.3619 - val_accuracy: 0.8526\n",
      "Epoch 11/20\n",
      "276/276 [==============================] - 2s 6ms/step - loss: 0.2536 - accuracy: 0.8946 - val_loss: 0.3515 - val_accuracy: 0.8540\n",
      "Epoch 12/20\n",
      "276/276 [==============================] - 1s 5ms/step - loss: 0.2412 - accuracy: 0.9004 - val_loss: 0.3631 - val_accuracy: 0.8518\n",
      "Epoch 13/20\n",
      "276/276 [==============================] - 1s 5ms/step - loss: 0.2316 - accuracy: 0.9054 - val_loss: 0.3861 - val_accuracy: 0.8474\n",
      "Epoch 14/20\n",
      "276/276 [==============================] - 1s 5ms/step - loss: 0.2232 - accuracy: 0.9086 - val_loss: 0.3835 - val_accuracy: 0.8452\n",
      "Epoch 15/20\n",
      "276/276 [==============================] - 1s 5ms/step - loss: 0.2141 - accuracy: 0.9135 - val_loss: 0.4169 - val_accuracy: 0.8452\n",
      "Epoch 16/20\n",
      "276/276 [==============================] - 1s 5ms/step - loss: 0.2075 - accuracy: 0.9164 - val_loss: 0.4006 - val_accuracy: 0.8462\n",
      "Epoch 17/20\n",
      "276/276 [==============================] - 1s 5ms/step - loss: 0.1995 - accuracy: 0.9205 - val_loss: 0.4204 - val_accuracy: 0.8440\n",
      "Epoch 18/20\n",
      "276/276 [==============================] - 2s 6ms/step - loss: 0.1921 - accuracy: 0.9238 - val_loss: 0.4325 - val_accuracy: 0.8456\n",
      "Epoch 19/20\n",
      "276/276 [==============================] - 1s 5ms/step - loss: 0.1873 - accuracy: 0.9267 - val_loss: 0.4299 - val_accuracy: 0.8438\n",
      "Epoch 20/20\n",
      "276/276 [==============================] - 1s 5ms/step - loss: 0.1782 - accuracy: 0.9308 - val_loss: 0.4460 - val_accuracy: 0.8428\n",
      "1537/1537 - 3s - loss: 0.4585 - accuracy: 0.8378\n"
     ]
    }
   ],
   "source": [
    "# 약 15000건중 validation set 5000건 분리\n",
    "x_val = X_train[:5000]   \n",
    "y_val = y_train[:5000]\n",
    "\n",
    "# validation set을 제외한 나머지 10000건\n",
    "partial_x_train = X_train[5000:]  \n",
    "partial_y_train = y_train[5000:]\n",
    "\n",
    "\n",
    "model.compile(optimizer='adam',\n",
    "              loss='binary_crossentropy',\n",
    "              metrics=['accuracy'])\n",
    "              \n",
    "epochs=20  # 몇 epoch를 훈련하면 좋을지 결과를 보면서 바꾸어 봅시다. \n",
    "\n",
    "history = model.fit(partial_x_train,\n",
    "                    partial_y_train,\n",
    "                    epochs=epochs,\n",
    "                    batch_size=512,\n",
    "                    validation_data=(x_val, y_val),\n",
    "                    verbose=1)\n",
    "\n",
    "results = model.evaluate(X_test,  y_test, verbose=2)"
   ]
  },
  {
   "cell_type": "code",
   "execution_count": 78,
   "id": "de81afa1",
   "metadata": {},
   "outputs": [
    {
     "name": "stdout",
     "output_type": "stream",
     "text": [
      "[0.4584507942199707, 0.8377647399902344]\n",
      "dict_keys(['loss', 'accuracy', 'val_loss', 'val_accuracy'])\n"
     ]
    }
   ],
   "source": [
    "print(results)\n",
    "history_dict = history.history\n",
    "print(history_dict.keys()) # epoch에 따른 그래프를 그려볼 수 있는 항목들"
   ]
  },
  {
   "cell_type": "code",
   "execution_count": 79,
   "id": "70065165",
   "metadata": {},
   "outputs": [
    {
     "data": {
      "image/png": "[encoded data removed]",
      "text/plain": [
       "<Figure size 432x288 with 1 Axes>"
      ]
     },
     "metadata": {
      "needs_background": "light"
     },
     "output_type": "display_data"
    },
    {
     "data": {
      "image/png": "[encoded data removed]",
      "text/plain": [
       "<Figure size 432x288 with 1 Axes>"
      ]
     },
     "metadata": {
      "needs_background": "light"
     },
     "output_type": "display_data"
    }
   ],
   "source": [
    "import matplotlib.pyplot as plt\n",
    "\n",
    "acc = history_dict['accuracy']\n",
    "val_acc = history_dict['val_accuracy']\n",
    "loss = history_dict['loss']\n",
    "val_loss = history_dict['val_loss']\n",
    "\n",
    "epochs = range(1, len(acc) + 1)\n",
    "\n",
    "# \"bo\"는 \"파란색 점\"입니다\n",
    "plt.plot(epochs, loss, 'bo', label='Training loss')\n",
    "# b는 \"파란 실선\"입니다\n",
    "plt.plot(epochs, val_loss, 'b', label='Validation loss')\n",
    "plt.title('Training and validation loss')\n",
    "plt.xlabel('Epochs')\n",
    "plt.ylabel('Loss')\n",
    "plt.legend()\n",
    "\n",
    "plt.show()\n",
    "\n",
    "plt.clf()   # 그림을 초기화합니다\n",
    "plt.plot(epochs, acc, 'bo', label='Training acc')\n",
    "plt.plot(epochs, val_acc, 'b', label='Validation acc')\n",
    "plt.title('Training and validation accuracy')\n",
    "plt.xlabel('Epochs')\n",
    "plt.ylabel('Accuracy')\n",
    "plt.legend()\n",
    "\n",
    "plt.show()"
   ]
  },
  {
   "cell_type": "code",
   "execution_count": 83,
   "id": "0e226ab0",
   "metadata": {},
   "outputs": [],
   "source": [
    "# 임베딩 레이어 유사도 데이터 저장\n",
    "embedding_layer = model.layers[0]\n",
    "weights = embedding_layer.get_weights()[0]\n",
    "\n",
    "# 학습한 Embedding 파라미터를 파일에 써서 저장합니다. \n",
    "word2vec_file_path = os.getenv('HOME')+'/aiffel/sentiment_classification/data/my_word2vec.txt'\n",
    "f = open(word2vec_file_path, 'w')\n",
    "f.write('{} {}\\n'.format(vocab_size-4, word_vector_dim))  # 몇개의 벡터를 얼마 사이즈로 기재할지 타이틀을 씁니다.\n",
    "\n",
    "# 단어 개수(에서 특수문자 4개는 제외하고)만큼의 워드 벡터를 파일에 기록합니다. \n",
    "vectors = model.get_weights()[0]\n",
    "for i in range(4,vocab_size):\n",
    "    f.write('{} {}\\n'.format(index_to_word[i], ' '.join(map(str, list(vectors[i, :])))))\n",
    "f.close()"
   ]
  },
  {
   "cell_type": "code",
   "execution_count": 91,
   "id": "caf6fdf5",
   "metadata": {},
   "outputs": [
    {
     "data": {
      "text/plain": [
       "[('실망', 0.9780639410018921),\n",
       " ('욕', 0.9771263003349304),\n",
       " ('제작사', 0.9734721183776855),\n",
       " ('나약', 0.9712300300598145),\n",
       " ('억지', 0.968447744846344),\n",
       " ('어거지', 0.9654496908187866),\n",
       " ('갈리', 0.9651861190795898),\n",
       " ('비추', 0.9650962352752686),\n",
       " ('따분', 0.9640973210334778),\n",
       " ('과하', 0.9628053903579712)]"
      ]
     },
     "execution_count": 91,
     "metadata": {},
     "output_type": "execute_result"
    }
   ],
   "source": [
    "# 유사 데이터 찾기!\n",
    "from gensim.models.keyedvectors import Word2VecKeyedVectors\n",
    "\n",
    "word_vectors = Word2VecKeyedVectors.load_word2vec_format(word2vec_file_path, binary=False)\n",
    "word_vectors.similar_by_word(\"망함\")"
   ]
  },
  {
   "cell_type": "markdown",
   "id": "4b00c24b",
   "metadata": {},
   "source": [
    "> Word2Vec 사용해보자"
   ]
  },
  {
   "cell_type": "code",
   "execution_count": 95,
   "id": "b2e0d723",
   "metadata": {},
   "outputs": [],
   "source": [
    "# Word2Vec\n",
    "from gensim.models.keyedvectors import Word2VecKeyedVectors\n",
    "\n",
    "word2vec_file_path = os.getenv('HOME')+'/data/word2vec_ko.model'\n",
    "word_vectors = Word2VecKeyedVectors.load(word2vec_file_path)\n",
    "#vector = word_vectors.wv[‘끝’]"
   ]
  },
  {
   "cell_type": "code",
   "execution_count": 123,
   "id": "c5b073c7",
   "metadata": {},
   "outputs": [
    {
     "name": "stdout",
     "output_type": "stream",
     "text": [
      "[0.6335411  0.93513778 0.06196549 0.20398633 0.55842538 0.48677831\n",
      " 0.48558735 0.08603816 0.30420854 0.28304319 0.42579968 0.72334015\n",
      " 0.69238726 0.84130477 0.92322028 0.31473129 0.2897969  0.60586912\n",
      " 0.73801085 0.68982177 0.29257892 0.18764214 0.93619471 0.82597319\n",
      " 0.83480985 0.45412065 0.15000236 0.54447901 0.55594308 0.87699042\n",
      " 0.87811944 0.01543384 0.17045957 0.25757406 0.73679592 0.25043467\n",
      " 0.40431895 0.91008417 0.34770685 0.73819315 0.87949552 0.81408744\n",
      " 0.74506692 0.20839125 0.74262725 0.48954007 0.09766178 0.75804311\n",
      " 0.71589452 0.8624773  0.33222167 0.09315302 0.79778642 0.54022139\n",
      " 0.57757784 0.24239059 0.45704009 0.39714596 0.81207629 0.42399366\n",
      " 0.69821553 0.12749123 0.0189175  0.29181792 0.49267413 0.64414163\n",
      " 0.5983828  0.94281406 0.51642713 0.41156414 0.72181799 0.47252817\n",
      " 0.720085   0.08538037 0.064384   0.80773763 0.85423745 0.2095664\n",
      " 0.73519496 0.7896494  0.81453119 0.6673702  0.67780564 0.08193633\n",
      " 0.96489221 0.4647716  0.38028925 0.69061085 0.93771688 0.45030571\n",
      " 0.19212627 0.75719824 0.87241254 0.00334947 0.61183632 0.02132232\n",
      " 0.86853883 0.60561772 0.75633513 0.1710383 ]\n",
      "(100,)\n"
     ]
    },
    {
     "ename": "AttributeError",
     "evalue": "type object 'list' has no attribute 'shape'",
     "output_type": "error",
     "traceback": [
      "\u001b[0;31m---------------------------------------------------------------------------\u001b[0m",
      "\u001b[0;31mAttributeError\u001b[0m                            Traceback (most recent call last)",
      "\u001b[0;32m/tmp/ipykernel_31/1573394058.py\u001b[0m in \u001b[0;36m<module>\u001b[0;34m\u001b[0m\n\u001b[1;32m     11\u001b[0m \u001b[0mprint\u001b[0m\u001b[0;34m(\u001b[0m\u001b[0membedding_matrix\u001b[0m\u001b[0;34m[\u001b[0m\u001b[0;36m0\u001b[0m\u001b[0;34m]\u001b[0m\u001b[0;34m.\u001b[0m\u001b[0mshape\u001b[0m\u001b[0;34m)\u001b[0m\u001b[0;34m\u001b[0m\u001b[0;34m\u001b[0m\u001b[0m\n\u001b[1;32m     12\u001b[0m \u001b[0mtest\u001b[0m \u001b[0;34m=\u001b[0m \u001b[0mlist\u001b[0m\u001b[0;34m[\u001b[0m\u001b[0;34m(\u001b[0m\u001b[0;36m1\u001b[0m\u001b[0;34m,\u001b[0m\u001b[0;36m2\u001b[0m\u001b[0;34m)\u001b[0m\u001b[0;34m]\u001b[0m\u001b[0;34m\u001b[0m\u001b[0;34m\u001b[0m\u001b[0m\n\u001b[0;32m---> 13\u001b[0;31m \u001b[0mprint\u001b[0m\u001b[0;34m(\u001b[0m\u001b[0mtest\u001b[0m\u001b[0;34m.\u001b[0m\u001b[0mshape\u001b[0m\u001b[0;34m)\u001b[0m\u001b[0;34m\u001b[0m\u001b[0;34m\u001b[0m\u001b[0m\n\u001b[0m",
      "\u001b[0;31mAttributeError\u001b[0m: type object 'list' has no attribute 'shape'"
     ]
    }
   ],
   "source": [
    "vocab_size = 2336    # 어휘 사전의 크기입니다(10,000개의 단어)\n",
    "word_vector_dim = 100  # 워드 벡터의 차원수\n",
    "embedding_matrix = np.random.rand(vocab_size, word_vector_dim)\n",
    "\n",
    "# embedding_matrix에 Word2Vec 워드 벡터를 단어 하나씩마다 차례차례 카피한다.\n",
    "for i in range(4,vocab_size):\n",
    "    if index_to_word[i] in word_vectors.wv.index_to_key:\n",
    "        embedding_matrix[i] = word_vectors.wv[index_to_word[i]]\n",
    "        \n",
    "print(embedding_matrix[0])\n",
    "print(embedding_matrix[0])\n"
   ]
  }
 ],
 "metadata": {
  "kernelspec": {
   "display_name": "Python 3 (ipykernel)",
   "language": "python",
   "name": "python3"
  },
  "language_info": {
   "codemirror_mode": {
    "name": "ipython",
    "version": 3
   },
   "file_extension": ".py",
   "mimetype": "text/x-python",
   "name": "python",
   "nbconvert_exporter": "python",
   "pygments_lexer": "ipython3",
   "version": "3.9.7"
  }
 },
 "nbformat": 4,
 "nbformat_minor": 5
}
