{
 "cells": [
  {
   "cell_type": "code",
   "execution_count": 3,
   "id": "251e8f00",
   "metadata": {},
   "outputs": [
    {
     "name": "stdout",
     "output_type": "stream",
     "text": [
      "number of train examples : 5\n"
     ]
    }
   ],
   "source": [
    "import os\n",
    "\n",
    "train_data_path = './cityscapes/train'\n",
    "test_data_path = './cityscapes/val'\n",
    "print(\"number of train examples :\", len(os.listdir(data_path)))"
   ]
  }
 ],
 "metadata": {
  "kernelspec": {
   "display_name": "Python 3 (ipykernel)",
   "language": "python",
   "name": "python3"
  },
  "language_info": {
   "codemirror_mode": {
    "name": "ipython",
    "version": 3
   },
   "file_extension": ".py",
   "mimetype": "text/x-python",
   "name": "python",
   "nbconvert_exporter": "python",
   "pygments_lexer": "ipython3",
   "version": "3.9.7"
  }
 },
 "nbformat": 4,
 "nbformat_minor": 5
}
